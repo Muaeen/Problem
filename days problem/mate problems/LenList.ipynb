{
 "cells": [
  {
   "cell_type": "markdown",
   "id": "a495b6c6",
   "metadata": {},
   "source": [
    "# PROBLEMS MATE\n",
    "***\n",
    "\n",
    "you'll be learning how to write a **Python** program that count of numbers present in the list [list,list,list], including nested matrices. You can use it to achieve various goals, such as calculating the total sum of numbers in the matrix, finding a specific value, computing the average of the numbers, and so on.\n",
    "\n",
    "\n",
    "\n",
    "\n",
    "\n",
    "- STEPS WHAT I DID\n",
    "    1. Create a def function :\n",
    "        - initializing a variable.\n",
    "        - for loop for my list.\n",
    "        - using isinstance ().\n",
    "        - Statement :\n",
    "            - if. \n",
    "            - Else.\n",
    "***\n",
    "        "
   ]
  },
  {
   "cell_type": "markdown",
   "id": "799f4672",
   "metadata": {},
   "source": [
    "$$isinstance()$$\n",
    "$$\\quad\\text{This allows you to verify the type of an object in your program and take different actions based on that type}$$ "
   ]
  },
  {
   "cell_type": "code",
   "execution_count": 1,
   "id": "0f58c0e0",
   "metadata": {},
   "outputs": [],
   "source": [
    "def count_elements(lis):\n",
    "    count = 0\n",
    "    for i in lis:\n",
    "        if isinstance(i, list):\n",
    "            count += count_elements(i)\n",
    "        else:\n",
    "            count += 1\n",
    "    return count"
   ]
  },
  {
   "cell_type": "code",
   "execution_count": 2,
   "id": "03cf72a9",
   "metadata": {},
   "outputs": [],
   "source": [
    "my_list = [1, 2, [3, 4, [5, 6]], [7, 8]]"
   ]
  },
  {
   "cell_type": "code",
   "execution_count": 3,
   "id": "c5b1b939",
   "metadata": {
    "scrolled": true
   },
   "outputs": [
    {
     "data": {
      "text/plain": [
       "8"
      ]
     },
     "execution_count": 3,
     "metadata": {},
     "output_type": "execute_result"
    }
   ],
   "source": [
    "result = count_elements(my_list)\n",
    "result"
   ]
  },
  {
   "cell_type": "code",
   "execution_count": null,
   "id": "b7542ec8",
   "metadata": {},
   "outputs": [],
   "source": []
  }
 ],
 "metadata": {
  "kernelspec": {
   "display_name": "Python 3 (ipykernel)",
   "language": "python",
   "name": "python3"
  },
  "language_info": {
   "codemirror_mode": {
    "name": "ipython",
    "version": 3
   },
   "file_extension": ".py",
   "mimetype": "text/x-python",
   "name": "python",
   "nbconvert_exporter": "python",
   "pygments_lexer": "ipython3",
   "version": "3.9.12"
  }
 },
 "nbformat": 4,
 "nbformat_minor": 5
}
